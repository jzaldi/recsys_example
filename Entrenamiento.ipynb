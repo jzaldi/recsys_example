{
 "cells": [
  {
   "cell_type": "code",
   "execution_count": 1,
   "metadata": {
    "ExecuteTime": {
     "end_time": "2019-06-05T19:01:33.610533Z",
     "start_time": "2019-06-05T19:01:33.405046Z"
    }
   },
   "outputs": [],
   "source": [
    "import numpy as np\n",
    "import pandas as pd"
   ]
  },
  {
   "cell_type": "markdown",
   "metadata": {},
   "source": [
    "# Entrenamiento recsys con autoencoders"
   ]
  },
  {
   "cell_type": "code",
   "execution_count": 2,
   "metadata": {
    "ExecuteTime": {
     "end_time": "2019-06-05T19:01:33.615623Z",
     "start_time": "2019-06-05T19:01:33.613173Z"
    }
   },
   "outputs": [],
   "source": [
    "interactions_path = \"data/ml-1m/ratings.dat\"\n",
    "model_path = \"data/ml-1m/model.pth\""
   ]
  },
  {
   "cell_type": "markdown",
   "metadata": {},
   "source": [
    "## Lectura y limpieza de los datos"
   ]
  },
  {
   "cell_type": "markdown",
   "metadata": {},
   "source": [
    "Leemos el archivo `.dat` que contiene las interacciones usuario-película con los ratings, aunque como vamos a entrenar un modelo implícito solo nos interesa si han interactuado con la pélicula o no."
   ]
  },
  {
   "cell_type": "code",
   "execution_count": 3,
   "metadata": {
    "ExecuteTime": {
     "end_time": "2019-06-05T19:01:37.520744Z",
     "start_time": "2019-06-05T19:01:33.618242Z"
    }
   },
   "outputs": [
    {
     "data": {
      "text/html": [
       "<div>\n",
       "<style scoped>\n",
       "    .dataframe tbody tr th:only-of-type {\n",
       "        vertical-align: middle;\n",
       "    }\n",
       "\n",
       "    .dataframe tbody tr th {\n",
       "        vertical-align: top;\n",
       "    }\n",
       "\n",
       "    .dataframe thead th {\n",
       "        text-align: right;\n",
       "    }\n",
       "</style>\n",
       "<table border=\"1\" class=\"dataframe\">\n",
       "  <thead>\n",
       "    <tr style=\"text-align: right;\">\n",
       "      <th></th>\n",
       "      <th>user_id</th>\n",
       "      <th>item_id</th>\n",
       "      <th>rating</th>\n",
       "      <th>timestamp</th>\n",
       "    </tr>\n",
       "  </thead>\n",
       "  <tbody>\n",
       "    <tr>\n",
       "      <th>0</th>\n",
       "      <td>1</td>\n",
       "      <td>1193</td>\n",
       "      <td>5</td>\n",
       "      <td>978300760</td>\n",
       "    </tr>\n",
       "    <tr>\n",
       "      <th>1</th>\n",
       "      <td>1</td>\n",
       "      <td>661</td>\n",
       "      <td>3</td>\n",
       "      <td>978302109</td>\n",
       "    </tr>\n",
       "    <tr>\n",
       "      <th>2</th>\n",
       "      <td>1</td>\n",
       "      <td>914</td>\n",
       "      <td>3</td>\n",
       "      <td>978301968</td>\n",
       "    </tr>\n",
       "    <tr>\n",
       "      <th>3</th>\n",
       "      <td>1</td>\n",
       "      <td>3408</td>\n",
       "      <td>4</td>\n",
       "      <td>978300275</td>\n",
       "    </tr>\n",
       "    <tr>\n",
       "      <th>4</th>\n",
       "      <td>1</td>\n",
       "      <td>2355</td>\n",
       "      <td>5</td>\n",
       "      <td>978824291</td>\n",
       "    </tr>\n",
       "  </tbody>\n",
       "</table>\n",
       "</div>"
      ],
      "text/plain": [
       "   user_id  item_id  rating  timestamp\n",
       "0        1     1193       5  978300760\n",
       "1        1      661       3  978302109\n",
       "2        1      914       3  978301968\n",
       "3        1     3408       4  978300275\n",
       "4        1     2355       5  978824291"
      ]
     },
     "execution_count": 3,
     "metadata": {},
     "output_type": "execute_result"
    }
   ],
   "source": [
    "interactions = pd.read_csv(\n",
    "    interactions_path, \n",
    "    sep=\"::\", header = None, encoding = \"ISO-8859-1\",\n",
    "    engine = \"python\"\n",
    ")\n",
    "interactions.columns = [\"user_id\", \"item_id\", \"rating\", \"timestamp\"]\n",
    "interactions.head()"
   ]
  },
  {
   "cell_type": "markdown",
   "metadata": {},
   "source": [
    "Tanto `user_id` como `ìtem_id` están indexados a partir de `1`. Por comodidad los pasamos a que estén en base `0` simplemente restándoles `1`."
   ]
  },
  {
   "cell_type": "code",
   "execution_count": 4,
   "metadata": {
    "ExecuteTime": {
     "end_time": "2019-06-05T19:01:37.546506Z",
     "start_time": "2019-06-05T19:01:37.524273Z"
    }
   },
   "outputs": [],
   "source": [
    "interactions.user_id = interactions.user_id - 1\n",
    "interactions.item_id = interactions.item_id - 1"
   ]
  },
  {
   "cell_type": "markdown",
   "metadata": {},
   "source": [
    "## Entrenamiento del modelo"
   ]
  },
  {
   "cell_type": "markdown",
   "metadata": {},
   "source": [
    "Cargamos la libreria `torch` así como el módulo de codigo que contiene la definición de la arquitectura de autoencoder que vamos a usar."
   ]
  },
  {
   "cell_type": "code",
   "execution_count": 5,
   "metadata": {
    "ExecuteTime": {
     "end_time": "2019-06-05T19:01:37.813952Z",
     "start_time": "2019-06-05T19:01:37.548203Z"
    }
   },
   "outputs": [],
   "source": [
    "import torch\n",
    "import torch.nn as nn\n",
    "\n",
    "from model.autoencoder import MovieLensAutoencoder\n",
    "from model.callbacks import plot_callback"
   ]
  },
  {
   "cell_type": "markdown",
   "metadata": {},
   "source": [
    "Convertimos el `DataFrame` a un tensor de pytorch que representa la matriz de interacciones con los usuarios por filas y las películas por columnas."
   ]
  },
  {
   "cell_type": "code",
   "execution_count": 6,
   "metadata": {
    "ExecuteTime": {
     "end_time": "2019-06-05T19:01:38.039234Z",
     "start_time": "2019-06-05T19:01:37.815687Z"
    }
   },
   "outputs": [],
   "source": [
    "x = torch.sparse.FloatTensor(\n",
    "    torch.LongTensor(np.transpose(interactions[[\"user_id\", \"item_id\"]].values)),\n",
    "    torch.FloatTensor(np.ones(interactions.shape[0]))\n",
    ").to_dense()"
   ]
  },
  {
   "cell_type": "markdown",
   "metadata": {},
   "source": [
    "Construimos el objeto del modelo y comenzamos el entrenamiento. Fijamos las semillas tanto de `numpy` como de `pytorch` para que el entrenamiento sea reproducible."
   ]
  },
  {
   "cell_type": "code",
   "execution_count": 7,
   "metadata": {
    "ExecuteTime": {
     "end_time": "2019-06-05T19:03:02.301412Z",
     "start_time": "2019-06-05T19:01:38.040639Z"
    }
   },
   "outputs": [
    {
     "data": {
      "image/png": "[encoded data removed]",
      "text/plain": [
       "<Figure size 720x444.24 with 1 Axes>"
      ]
     },
     "metadata": {
      "needs_background": "light"
     },
     "output_type": "display_data"
    },
    {
     "name": "stdout",
     "output_type": "stream",
     "text": [
      "Early stopping reached at epoch 71.\n",
      "Best val_loss 0.1029.\n"
     ]
    }
   ],
   "source": [
    "np.random.seed(0)\n",
    "torch.manual_seed(0)\n",
    "\n",
    "n_users = x.shape[0]\n",
    "n_movies = x.shape[1]\n",
    "\n",
    "ae = MovieLensAutoencoder(n_users, n_movies, h_dim = 128, ls_dim = 64)\n",
    "ae.fit(\n",
    "    x, # Matriz de interacciones\n",
    "    lr = 5e-4, # Learning rating\n",
    "    val_frac = 0.2, # Porcentaje de validación que se usará\n",
    "    n_epoch = 500, # Número máximo de epoch\n",
    "    early_stopping = 25, # Si en 25 epoch la métrica de validación no mejora, deja de entrenar.\n",
    "    loss_function = nn.BCELoss(), # Función de perdida binary cross entropy\n",
    "    callbacks = [plot_callback] # Calback para que vaya pintando iterativamente el proceso de entrenamiento\n",
    ")"
   ]
  },
  {
   "cell_type": "markdown",
   "metadata": {},
   "source": [
    "Por último guardamos el modelo para poder posteriormente cargarlo y predecir."
   ]
  },
  {
   "cell_type": "code",
   "execution_count": 8,
   "metadata": {
    "ExecuteTime": {
     "end_time": "2019-06-05T19:03:02.322499Z",
     "start_time": "2019-06-05T19:03:02.303285Z"
    }
   },
   "outputs": [],
   "source": [
    "torch.save(ae, model_path)"
   ]
  }
 ],
 "metadata": {
  "kernelspec": {
   "display_name": "Python 3",
   "language": "python",
   "name": "python3"
  },
  "language_info": {
   "codemirror_mode": {
    "name": "ipython",
    "version": 3
   },
   "file_extension": ".py",
   "mimetype": "text/x-python",
   "name": "python",
   "nbconvert_exporter": "python",
   "pygments_lexer": "ipython3",
   "version": "3.7.2"
  },
  "toc": {
   "base_numbering": 1,
   "nav_menu": {},
   "number_sections": true,
   "sideBar": true,
   "skip_h1_title": false,
   "title_cell": "Table of Contents",
   "title_sidebar": "Contents",
   "toc_cell": false,
   "toc_position": {},
   "toc_section_display": true,
   "toc_window_display": true
  },
  "varInspector": {
   "cols": {
    "lenName": 16,
    "lenType": 16,
    "lenVar": 40
   },
   "kernels_config": {
    "python": {
     "delete_cmd_postfix": "",
     "delete_cmd_prefix": "del ",
     "library": "var_list.py",
     "varRefreshCmd": "print(var_dic_list())"
    },
    "r": {
     "delete_cmd_postfix": ") ",
     "delete_cmd_prefix": "rm(",
     "library": "var_list.r",
     "varRefreshCmd": "cat(var_dic_list()) "
    }
   },
   "types_to_exclude": [
    "module",
    "function",
    "builtin_function_or_method",
    "instance",
    "_Feature"
   ],
   "window_display": false
  }
 },
 "nbformat": 4,
 "nbformat_minor": 2
}
